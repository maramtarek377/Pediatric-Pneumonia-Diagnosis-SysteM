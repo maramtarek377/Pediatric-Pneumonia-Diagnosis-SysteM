{
 "cells": [
  {
   "cell_type": "markdown",
   "metadata": {},
   "source": [
    "## Importing Required Libraries and Modules"
   ]
  },
  {
   "cell_type": "code",
   "execution_count": 13,
   "metadata": {},
   "outputs": [],
   "source": [
    "import os\n",
    "import numpy as np\n",
    "from tensorflow.keras.preprocessing.image import ImageDataGenerator\n",
    "from tensorflow.keras.models import Sequential\n",
    "from tensorflow.keras.layers import Conv2D, MaxPooling2D, Flatten, Dense, Dropout\n",
    "from tensorflow.keras.optimizers import Adam\n",
    "import tkinter as tk\n",
    "from tkinter import filedialog, messagebox\n",
    "from PIL import Image, ImageTk\n",
    "import cv2\n"
   ]
  },
  {
   "cell_type": "markdown",
   "metadata": {},
   "source": [
    "## Setting Dataset Paths and Image Parameters"
   ]
  },
  {
   "cell_type": "code",
   "execution_count": 14,
   "metadata": {},
   "outputs": [],
   "source": [
    "\n",
    "# Dataset paths\n",
    "train_dir = 'C:/Users/maram/Desktop/project medical expert/train'\n",
    "test_dir = 'C:/Users/maram/Desktop/project medical expert/test'\n",
    "\n",
    "# Image dimensions and parameters\n",
    "IMG_HEIGHT = 150\n",
    "IMG_WIDTH = 150\n",
    "BATCH_SIZE = 32\n",
    "EPOCHS = 10"
   ]
  },
  {
   "cell_type": "markdown",
   "metadata": {},
   "source": [
    "## Data Augmentation and Preprocessing for Training and Testing"
   ]
  },
  {
   "cell_type": "code",
   "execution_count": 15,
   "metadata": {},
   "outputs": [
    {
     "name": "stdout",
     "output_type": "stream",
     "text": [
      "Found 5232 images belonging to 2 classes.\n",
      "Found 624 images belonging to 2 classes.\n"
     ]
    }
   ],
   "source": [
    "# Data augmentation and rescaling\n",
    "train_datagen = ImageDataGenerator(rescale=1./255, shear_range=0.2, zoom_range=0.2, horizontal_flip=True)\n",
    "test_datagen = ImageDataGenerator(rescale=1./255)\n",
    "\n",
    "train_generator = train_datagen.flow_from_directory(\n",
    "    train_dir,\n",
    "    target_size=(IMG_HEIGHT, IMG_WIDTH),\n",
    "    batch_size=BATCH_SIZE,\n",
    "    class_mode='binary'\n",
    ")\n",
    "\n",
    "test_generator = test_datagen.flow_from_directory(\n",
    "    test_dir,\n",
    "    target_size=(IMG_HEIGHT, IMG_WIDTH),\n",
    "    batch_size=BATCH_SIZE,\n",
    "    class_mode='binary'\n",
    ")\n"
   ]
  },
  {
   "cell_type": "markdown",
   "metadata": {},
   "source": [
    "## Building the Convolutional Neural Network (CNN) Model"
   ]
  },
  {
   "cell_type": "code",
   "execution_count": 16,
   "metadata": {},
   "outputs": [],
   "source": [
    "# Build the CNN model\n",
    "model = Sequential([\n",
    "    Conv2D(32, (3, 3), activation='relu', input_shape=(IMG_HEIGHT, IMG_WIDTH, 3)),\n",
    "    MaxPooling2D(pool_size=(2, 2)),\n",
    "    Conv2D(64, (3, 3), activation='relu'),\n",
    "    MaxPooling2D(pool_size=(2, 2)),\n",
    "    Flatten(),\n",
    "    Dense(128, activation='relu'),\n",
    "    Dropout(0.5),\n",
    "    Dense(1, activation='sigmoid')\n",
    "])"
   ]
  },
  {
   "cell_type": "code",
   "execution_count": 17,
   "metadata": {},
   "outputs": [],
   "source": [
    "\n",
    "# Compile the model\n",
    "model.compile(optimizer=Adam(learning_rate=0.001), loss='binary_crossentropy', metrics=['accuracy'])\n"
   ]
  },
  {
   "cell_type": "code",
   "execution_count": 18,
   "metadata": {},
   "outputs": [
    {
     "name": "stderr",
     "output_type": "stream",
     "text": [
      "c:\\Users\\maram\\AppData\\Local\\Programs\\Python\\Python312\\Lib\\site-packages\\keras\\src\\trainers\\data_adapters\\py_dataset_adapter.py:121: UserWarning: Your `PyDataset` class should call `super().__init__(**kwargs)` in its constructor. `**kwargs` can include `workers`, `use_multiprocessing`, `max_queue_size`. Do not pass these arguments to `fit()`, as they will be ignored.\n",
      "  self._warn_if_super_not_called()\n"
     ]
    },
    {
     "name": "stdout",
     "output_type": "stream",
     "text": [
      "Epoch 1/10\n",
      "\u001b[1m164/164\u001b[0m \u001b[32m━━━━━━━━━━━━━━━━━━━━\u001b[0m\u001b[37m\u001b[0m \u001b[1m0s\u001b[0m 450ms/step - accuracy: 0.7464 - loss: 0.7259"
     ]
    },
    {
     "name": "stderr",
     "output_type": "stream",
     "text": [
      "c:\\Users\\maram\\AppData\\Local\\Programs\\Python\\Python312\\Lib\\site-packages\\keras\\src\\trainers\\data_adapters\\py_dataset_adapter.py:121: UserWarning: Your `PyDataset` class should call `super().__init__(**kwargs)` in its constructor. `**kwargs` can include `workers`, `use_multiprocessing`, `max_queue_size`. Do not pass these arguments to `fit()`, as they will be ignored.\n",
      "  self._warn_if_super_not_called()\n"
     ]
    },
    {
     "name": "stdout",
     "output_type": "stream",
     "text": [
      "\u001b[1m164/164\u001b[0m \u001b[32m━━━━━━━━━━━━━━━━━━━━\u001b[0m\u001b[37m\u001b[0m \u001b[1m80s\u001b[0m 481ms/step - accuracy: 0.7467 - loss: 0.7244 - val_accuracy: 0.8221 - val_loss: 0.4602\n",
      "Epoch 2/10\n",
      "\u001b[1m164/164\u001b[0m \u001b[32m━━━━━━━━━━━━━━━━━━━━\u001b[0m\u001b[37m\u001b[0m \u001b[1m85s\u001b[0m 520ms/step - accuracy: 0.8856 - loss: 0.2715 - val_accuracy: 0.8141 - val_loss: 0.4677\n",
      "Epoch 3/10\n",
      "\u001b[1m164/164\u001b[0m \u001b[32m━━━━━━━━━━━━━━━━━━━━\u001b[0m\u001b[37m\u001b[0m \u001b[1m91s\u001b[0m 556ms/step - accuracy: 0.8965 - loss: 0.2645 - val_accuracy: 0.7981 - val_loss: 0.5711\n",
      "Epoch 4/10\n",
      "\u001b[1m164/164\u001b[0m \u001b[32m━━━━━━━━━━━━━━━━━━━━\u001b[0m\u001b[37m\u001b[0m \u001b[1m94s\u001b[0m 576ms/step - accuracy: 0.9051 - loss: 0.2376 - val_accuracy: 0.8189 - val_loss: 0.4604\n",
      "Epoch 5/10\n",
      "\u001b[1m164/164\u001b[0m \u001b[32m━━━━━━━━━━━━━━━━━━━━\u001b[0m\u001b[37m\u001b[0m \u001b[1m89s\u001b[0m 545ms/step - accuracy: 0.9071 - loss: 0.2271 - val_accuracy: 0.7821 - val_loss: 0.6347\n",
      "Epoch 6/10\n",
      "\u001b[1m164/164\u001b[0m \u001b[32m━━━━━━━━━━━━━━━━━━━━\u001b[0m\u001b[37m\u001b[0m \u001b[1m79s\u001b[0m 483ms/step - accuracy: 0.9161 - loss: 0.2075 - val_accuracy: 0.8125 - val_loss: 0.5014\n",
      "Epoch 7/10\n",
      "\u001b[1m164/164\u001b[0m \u001b[32m━━━━━━━━━━━━━━━━━━━━\u001b[0m\u001b[37m\u001b[0m \u001b[1m87s\u001b[0m 530ms/step - accuracy: 0.9189 - loss: 0.1903 - val_accuracy: 0.7981 - val_loss: 0.4928\n",
      "Epoch 8/10\n",
      "\u001b[1m164/164\u001b[0m \u001b[32m━━━━━━━━━━━━━━━━━━━━\u001b[0m\u001b[37m\u001b[0m \u001b[1m84s\u001b[0m 511ms/step - accuracy: 0.9320 - loss: 0.1839 - val_accuracy: 0.8494 - val_loss: 0.4724\n",
      "Epoch 9/10\n",
      "\u001b[1m164/164\u001b[0m \u001b[32m━━━━━━━━━━━━━━━━━━━━\u001b[0m\u001b[37m\u001b[0m \u001b[1m86s\u001b[0m 522ms/step - accuracy: 0.9310 - loss: 0.1789 - val_accuracy: 0.8205 - val_loss: 0.5666\n",
      "Epoch 10/10\n",
      "\u001b[1m164/164\u001b[0m \u001b[32m━━━━━━━━━━━━━━━━━━━━\u001b[0m\u001b[37m\u001b[0m \u001b[1m93s\u001b[0m 565ms/step - accuracy: 0.9348 - loss: 0.1761 - val_accuracy: 0.7901 - val_loss: 0.6599\n"
     ]
    },
    {
     "name": "stderr",
     "output_type": "stream",
     "text": [
      "WARNING:absl:You are saving your model as an HDF5 file via `model.save()` or `keras.saving.save_model(model)`. This file format is considered legacy. We recommend using instead the native Keras format, e.g. `model.save('my_model.keras')` or `keras.saving.save_model(model, 'my_model.keras')`. \n"
     ]
    }
   ],
   "source": [
    "# Train the model and store the history for plotting\n",
    "history = model.fit(train_generator, epochs=EPOCHS, validation_data=test_generator)\n",
    "\n",
    "# Save the trained model\n",
    "model.save('pneumonia_cnn_model.h5')"
   ]
  },
  {
   "cell_type": "markdown",
   "metadata": {},
   "source": [
    "## Model Evaluation and Accuracy Calculation"
   ]
  },
  {
   "cell_type": "code",
   "execution_count": 19,
   "metadata": {},
   "outputs": [
    {
     "name": "stdout",
     "output_type": "stream",
     "text": [
      "Train Accuracy: 0.93\n",
      "Test Accuracy: 0.79\n",
      "Overall Accuracy: 0.92\n"
     ]
    }
   ],
   "source": [
    "# Evaluate on train and test data\n",
    "train_loss, train_acc = model.evaluate(train_generator, verbose=0)\n",
    "test_loss, test_acc = model.evaluate(test_generator, verbose=0)\n",
    "\n",
    "# Get the number of samples in train and test datasets\n",
    "train_samples = train_generator.samples\n",
    "test_samples = test_generator.samples\n",
    "total_samples = train_samples + test_samples\n",
    "\n",
    "# Calculate overall accuracy\n",
    "overall_acc = (train_acc * train_samples + test_acc * test_samples) / total_samples\n",
    "\n",
    "# Print train, test, and overall accuracy\n",
    "print(f\"Train Accuracy: {train_acc:.2f}\")\n",
    "print(f\"Test Accuracy: {test_acc:.2f}\")\n",
    "print(f\"Overall Accuracy: {overall_acc:.2f}\")\n"
   ]
  },
  {
   "cell_type": "code",
   "execution_count": 20,
   "metadata": {},
   "outputs": [
    {
     "name": "stdout",
     "output_type": "stream",
     "text": [
      "Epoch 1/10\n",
      "\u001b[1m164/164\u001b[0m \u001b[32m━━━━━━━━━━━━━━━━━━━━\u001b[0m\u001b[37m\u001b[0m \u001b[1m90s\u001b[0m 547ms/step - accuracy: 0.9329 - loss: 0.1670 - val_accuracy: 0.8397 - val_loss: 0.5242\n",
      "Epoch 2/10\n",
      "\u001b[1m164/164\u001b[0m \u001b[32m━━━━━━━━━━━━━━━━━━━━\u001b[0m\u001b[37m\u001b[0m \u001b[1m78s\u001b[0m 473ms/step - accuracy: 0.9392 - loss: 0.1554 - val_accuracy: 0.8446 - val_loss: 0.4319\n",
      "Epoch 3/10\n",
      "\u001b[1m164/164\u001b[0m \u001b[32m━━━━━━━━━━━━━━━━━━━━\u001b[0m\u001b[37m\u001b[0m \u001b[1m88s\u001b[0m 536ms/step - accuracy: 0.9430 - loss: 0.1556 - val_accuracy: 0.8446 - val_loss: 0.5534\n",
      "Epoch 4/10\n",
      "\u001b[1m164/164\u001b[0m \u001b[32m━━━━━━━━━━━━━━━━━━━━\u001b[0m\u001b[37m\u001b[0m \u001b[1m82s\u001b[0m 497ms/step - accuracy: 0.9478 - loss: 0.1564 - val_accuracy: 0.8734 - val_loss: 0.4135\n",
      "Epoch 5/10\n",
      "\u001b[1m164/164\u001b[0m \u001b[32m━━━━━━━━━━━━━━━━━━━━\u001b[0m\u001b[37m\u001b[0m \u001b[1m82s\u001b[0m 502ms/step - accuracy: 0.9442 - loss: 0.1582 - val_accuracy: 0.8750 - val_loss: 0.3552\n",
      "Epoch 6/10\n",
      "\u001b[1m164/164\u001b[0m \u001b[32m━━━━━━━━━━━━━━━━━━━━\u001b[0m\u001b[37m\u001b[0m \u001b[1m84s\u001b[0m 511ms/step - accuracy: 0.9456 - loss: 0.1461 - val_accuracy: 0.8814 - val_loss: 0.4033\n",
      "Epoch 7/10\n",
      "\u001b[1m164/164\u001b[0m \u001b[32m━━━━━━━━━━━━━━━━━━━━\u001b[0m\u001b[37m\u001b[0m \u001b[1m84s\u001b[0m 513ms/step - accuracy: 0.9449 - loss: 0.1529 - val_accuracy: 0.8462 - val_loss: 0.4756\n",
      "Epoch 8/10\n",
      "\u001b[1m164/164\u001b[0m \u001b[32m━━━━━━━━━━━━━━━━━━━━\u001b[0m\u001b[37m\u001b[0m \u001b[1m85s\u001b[0m 520ms/step - accuracy: 0.9486 - loss: 0.1391 - val_accuracy: 0.8622 - val_loss: 0.4396\n",
      "Epoch 9/10\n",
      "\u001b[1m164/164\u001b[0m \u001b[32m━━━━━━━━━━━━━━━━━━━━\u001b[0m\u001b[37m\u001b[0m \u001b[1m86s\u001b[0m 522ms/step - accuracy: 0.9538 - loss: 0.1362 - val_accuracy: 0.8974 - val_loss: 0.4112\n",
      "Epoch 10/10\n",
      "\u001b[1m164/164\u001b[0m \u001b[32m━━━━━━━━━━━━━━━━━━━━\u001b[0m\u001b[37m\u001b[0m \u001b[1m87s\u001b[0m 528ms/step - accuracy: 0.9433 - loss: 0.1473 - val_accuracy: 0.9054 - val_loss: 0.3785\n"
     ]
    },
    {
     "data": {
      "image/png": "[encoded data removed]",
      "text/plain": [
       "<Figure size 640x480 with 1 Axes>"
      ]
     },
     "metadata": {},
     "output_type": "display_data"
    }
   ],
   "source": [
    "import matplotlib.pyplot as plt\n",
    "\n",
    "# Initialize lists to store accuracy values\n",
    "train_accuracies = []\n",
    "test_accuracies = []\n",
    "\n",
    "# Training loop (assuming you're using model.fit())\n",
    "history = model.fit(train_generator, epochs=10, validation_data=test_generator, verbose=1)\n",
    "\n",
    "# Store train and test accuracies for each epoch\n",
    "train_accuracies = history.history['accuracy']\n",
    "test_accuracies = history.history['val_accuracy']\n",
    "\n",
    "# Plotting the accuracy curve\n",
    "plt.plot(train_accuracies, label='Train Accuracy')\n",
    "plt.plot(test_accuracies, label='Test Accuracy')\n",
    "plt.title('Train and Test Accuracy Over Epochs')\n",
    "plt.xlabel('Epochs')\n",
    "plt.ylabel('Accuracy')\n",
    "plt.legend()\n",
    "plt.show()\n"
   ]
  },
  {
   "cell_type": "markdown",
   "metadata": {},
   "source": [
    "## Plotting Training and Validation Loss Curve"
   ]
  },
  {
   "cell_type": "code",
   "execution_count": 21,
   "metadata": {},
   "outputs": [
    {
     "data": {
      "image/png": "[encoded data removed]",
      "text/plain": [
       "<Figure size 800x600 with 1 Axes>"
      ]
     },
     "metadata": {},
     "output_type": "display_data"
    }
   ],
   "source": [
    "import matplotlib.pyplot as plt\n",
    "\n",
    "# Function to plot the loss curve\n",
    "def plot_loss_curve(history):\n",
    "    loss = history.history['loss']\n",
    "    val_loss = history.history['val_loss']\n",
    "    epochs_range = range(len(loss))\n",
    "\n",
    "    plt.figure(figsize=(8, 6))\n",
    "\n",
    "    # Plot loss\n",
    "    plt.plot(epochs_range, loss, label='Train Loss', color='blue')\n",
    "    plt.plot(epochs_range, val_loss, label='test Loss', color='red')\n",
    "    plt.xlabel('Epochs')\n",
    "    plt.ylabel('Loss')\n",
    "    plt.title('Training and test Loss')\n",
    "    plt.legend(loc='upper right')\n",
    "\n",
    "    plt.grid(True)\n",
    "    plt.show()\n",
    "\n",
    "# Call the function to plot the loss curve\n",
    "plot_loss_curve(history)\n"
   ]
  },
  {
   "cell_type": "code",
   "execution_count": 22,
   "metadata": {},
   "outputs": [
    {
     "name": "stderr",
     "output_type": "stream",
     "text": [
      "WARNING:absl:Compiled the loaded model, but the compiled metrics have yet to be built. `model.compile_metrics` will be empty until you train or evaluate the model.\n"
     ]
    }
   ],
   "source": [
    "from tensorflow.keras.models import load_model\n",
    "\n",
    "# Load the trained model\n",
    "cnn_model = load_model('pneumonia_cnn_model.h5')"
   ]
  },
  {
   "cell_type": "markdown",
   "metadata": {},
   "source": [
    "## Implementing Rule-Based Diagnosis System"
   ]
  },
  {
   "cell_type": "code",
   "execution_count": 23,
   "metadata": {},
   "outputs": [],
   "source": [
    "def rule_based_diagnosis(age, gender, symptoms, cnn_prediction):\n",
    "    if cnn_prediction == 1:\n",
    "        diagnosis = \"Pneumonia Detected\"\n",
    "        treatment_plan = \"Immediate medical attention required. Antibiotics may be prescribed. Consider hospitalization based on severity.\"\n",
    "    else:\n",
    "        diagnosis = \"Normal\"\n",
    "        treatment_plan = \"No treatment needed. Maintain general health precautions and monitor symptoms.\"\n",
    "\n",
    "    # Severity based on symptoms\n",
    "    risk_score = len(symptoms) * 10\n",
    "    if len(symptoms) <= 2:\n",
    "        diagnosis += \" (Early Stage)\"\n",
    "        treatment_plan += \" Early intervention recommended.\"\n",
    "    elif len(symptoms) >= 3:\n",
    "        diagnosis += \" (Severe Pneumonia)\"\n",
    "        treatment_plan += \" Severe treatment may be needed, including IV antibiotics or oxygen support.\"\n",
    "\n",
    "    # Additional rule for young children (age < 5)\n",
    "    if age < 5 and cnn_prediction == 1:\n",
    "        diagnosis = \"Severe Pneumonia Risk (Young Age)\"\n",
    "        treatment_plan = \"Immediate medical attention required. Oxygen therapy and close monitoring needed.\"\n",
    "        risk_score += 20\n",
    "\n",
    "    return diagnosis, treatment_plan, risk_score"
   ]
  },
  {
   "cell_type": "markdown",
   "metadata": {},
   "source": [
    "## UI"
   ]
  },
  {
   "cell_type": "code",
   "execution_count": 24,
   "metadata": {},
   "outputs": [
    {
     "name": "stdout",
     "output_type": "stream",
     "text": [
      "\u001b[1m1/1\u001b[0m \u001b[32m━━━━━━━━━━━━━━━━━━━━\u001b[0m\u001b[37m\u001b[0m \u001b[1m0s\u001b[0m 93ms/step\n",
      "\u001b[1m1/1\u001b[0m \u001b[32m━━━━━━━━━━━━━━━━━━━━\u001b[0m\u001b[37m\u001b[0m \u001b[1m0s\u001b[0m 44ms/step\n"
     ]
    }
   ],
   "source": [
    "def upload_image():\n",
    "    # Load the image file\n",
    "    file_path = filedialog.askopenfilename()\n",
    "    if not file_path:\n",
    "        return\n",
    "\n",
    "    # Display the selected image\n",
    "    img = Image.open(file_path)\n",
    "    img_resized = img.resize((150, 150))\n",
    "    img_tk = ImageTk.PhotoImage(img_resized)\n",
    "    image_label.config(image=img_tk)\n",
    "    image_label.image = img_tk\n",
    "\n",
    "    # Save the file path for later use\n",
    "    upload_image.file_path = file_path\n",
    "\n",
    "def diagnose():\n",
    "    # Ensure an image is uploaded\n",
    "    file_path = getattr(upload_image, 'file_path', None)\n",
    "    if not file_path:\n",
    "        messagebox.showerror(\"Input Error\", \"Please upload a chest X-ray image.\")\n",
    "        return\n",
    "\n",
    "    # Preprocess the image for CNN prediction\n",
    "    img_array = cv2.imread(file_path)\n",
    "    img_array = cv2.resize(img_array, (150, 150))\n",
    "    img_array = img_array / 255.0\n",
    "    img_array = np.expand_dims(img_array, axis=0)\n",
    "\n",
    "    # Get the CNN prediction (1 = Pneumonia, 0 = Normal)\n",
    "    prediction = cnn_model.predict(img_array)\n",
    "    cnn_result = int(prediction[0][0] > 0.5)\n",
    "\n",
    "    # Get user input for age, gender, and selected symptoms\n",
    "    try:\n",
    "        age = int(age_entry.get())\n",
    "        if age > 12:\n",
    "            messagebox.showerror(\"Age Restriction\", \"Age must be 12 or younger.\")\n",
    "            return\n",
    "    except ValueError:\n",
    "        messagebox.showerror(\"Input Error\", \"Please enter a valid age.\")\n",
    "        return\n",
    "\n",
    "    gender = gender_var.get()\n",
    "    \n",
    "    # Get selected symptoms from the Listbox\n",
    "    selected_indices = symptom_listbox.curselection()\n",
    "    selected_symptoms = [symptom_listbox.get(i) for i in selected_indices]\n",
    "\n",
    "    if not selected_symptoms:\n",
    "        messagebox.showerror(\"Input Error\", \"Please select at least one symptom.\")\n",
    "        return\n",
    "\n",
    "    # Get final diagnosis, treatment plan, and risk score\n",
    "    final_diagnosis, treatment_plan, risk_score = rule_based_diagnosis(age, gender, selected_symptoms, cnn_result)\n",
    "    result_label.config(text=f\"Diagnosis: {final_diagnosis}\\nRisk Score: {risk_score}\")\n",
    "\n",
    "    # Display treatment plan\n",
    "    treatment_plan_label.config(text=f\"{treatment_plan}\")\n",
    "\n",
    "def clear_all():\n",
    "    age_entry.delete(0, tk.END)\n",
    "    symptom_listbox.selection_clear(0, tk.END)\n",
    "    result_label.config(text=\"Diagnosis: \")\n",
    "    treatment_plan_label.config(text=\"\")\n",
    "    image_label.config(image='')\n",
    "    upload_image.file_path = None\n",
    "\n",
    "# Initialize Tkinter\n",
    "root = tk.Tk()\n",
    "root.title(\"Pediatric Pneumonia Diagnosis System\")\n",
    "root.geometry(\"600x800\")\n",
    "root.configure(bg=\"#f0f4f8\")\n",
    "\n",
    "# Styling options\n",
    "HEADER_FONT = (\"Helvetica\", 20, \"bold\")\n",
    "LABEL_FONT = (\"Helvetica\", 12)\n",
    "BUTTON_FONT = (\"Helvetica\", 12, \"bold\")\n",
    "BG_COLOR = \"#f0f4f8\"\n",
    "BUTTON_COLOR = \"#00796b\"\n",
    "TEXT_COLOR = \"#004d40\"\n",
    "ENTRY_COLOR = \"#ffffff\"\n",
    "\n",
    "# Header\n",
    "header_label = tk.Label(root, text=\"Pediatric Pneumonia Diagnosis System\", font=HEADER_FONT, bg=BG_COLOR, fg=TEXT_COLOR, pady=20)\n",
    "header_label.pack(fill=tk.X)\n",
    "\n",
    "# Frame for image upload and display\n",
    "frame_upload = tk.Frame(root, bg=BG_COLOR, bd=2, relief=tk.RAISED)\n",
    "frame_upload.pack(pady=20, padx=20, fill=tk.X)\n",
    "\n",
    "upload_button = tk.Button(frame_upload, text=\"Upload Chest X-ray\", command=upload_image, font=BUTTON_FONT, bg=BUTTON_COLOR, fg=\"white\", relief=tk.RAISED)\n",
    "upload_button.pack(pady=10)\n",
    "\n",
    "image_label = tk.Label(frame_upload, bg=BG_COLOR)\n",
    "image_label.pack(pady=5)\n",
    "\n",
    "# Frame for user inputs\n",
    "frame_inputs = tk.Frame(root, bg=BG_COLOR, bd=2, relief=tk.RAISED)\n",
    "frame_inputs.pack(pady=20, padx=20, fill=tk.X)\n",
    "\n",
    "# Age input\n",
    "tk.Label(frame_inputs, text=\"Age:\", font=LABEL_FONT, bg=BG_COLOR, fg=TEXT_COLOR).pack(pady=5)\n",
    "age_entry = tk.Entry(frame_inputs, font=LABEL_FONT, fg=TEXT_COLOR, bg=ENTRY_COLOR, bd=2, relief=tk.SOLID)\n",
    "age_entry.pack(pady=5, fill=tk.X)\n",
    "\n",
    "# Gender selection\n",
    "tk.Label(frame_inputs, text=\"Gender:\", font=LABEL_FONT, bg=BG_COLOR, fg=TEXT_COLOR).pack(pady=5)\n",
    "gender_var = tk.StringVar(value=\"Male\")\n",
    "gender_frame = tk.Frame(frame_inputs, bg=BG_COLOR)\n",
    "gender_frame.pack(pady=5)\n",
    "tk.Radiobutton(gender_frame, text=\"Male\", variable=gender_var, value=\"Male\", font=LABEL_FONT, bg=BG_COLOR, fg=TEXT_COLOR).pack(side=tk.LEFT, padx=20)\n",
    "tk.Radiobutton(gender_frame, text=\"Female\", variable=gender_var, value=\"Female\", font=LABEL_FONT, bg=BG_COLOR, fg=TEXT_COLOR).pack(side=tk.LEFT, padx=20)\n",
    "\n",
    "# Symptoms selection\n",
    "tk.Label(frame_inputs, text=\"Select Symptoms (Ctrl/Shift to select multiple):\", font=LABEL_FONT, bg=BG_COLOR, fg=TEXT_COLOR).pack(pady=5)\n",
    "\n",
    "symptoms = [\"Fever\", \"Cough\", \"Shortness of Breath\", \"Chest Pain\", \"Fatigue\", \"Sore Throat\", \"Muscle Pain\", \"Chills\"]\n",
    "\n",
    "symptom_listbox = tk.Listbox(frame_inputs, selectmode=tk.MULTIPLE, height=6, font=LABEL_FONT, bg=ENTRY_COLOR, fg=TEXT_COLOR, bd=2, relief=tk.SOLID)\n",
    "for symptom in symptoms:\n",
    "    symptom_listbox.insert(tk.END, symptom)\n",
    "symptom_listbox.pack(pady=5, fill=tk.X, padx=10)\n",
    "\n",
    "# Diagnose Button\n",
    "diagnose_button = tk.Button(root, text=\"Diagnose\", command=diagnose, font=BUTTON_FONT, bg=\"#ff9800\", fg=\"white\", relief=tk.RAISED)\n",
    "diagnose_button.pack(pady=10)\n",
    "\n",
    "# Frame for results\n",
    "frame_results = tk.Frame(root, bg=BG_COLOR, bd=2, relief=tk.RAISED)\n",
    "frame_results.pack(pady=20, padx=20, fill=tk.X)\n",
    "\n",
    "result_label = tk.Label(frame_results, text=\"Diagnosis: \", font=(\"Helvetica\", 14, \"bold\"), bg=BG_COLOR, fg=\"#d84315\", wraplength=450, justify=\"center\")\n",
    "result_label.pack(pady=10)\n",
    "\n",
    "treatment_plan_label = tk.Label(frame_results, text=\"\", font=(\"Helvetica\", 12), bg=BG_COLOR, fg=\"#004d40\", wraplength=450, justify=\"center\")\n",
    "treatment_plan_label.pack(pady=10)\n",
    "\n",
    "# Clear Button\n",
    "clear_button = tk.Button(root, text=\"Clear\", command=clear_all, font=BUTTON_FONT, bg=\"#d32f2f\", fg=\"white\", relief=tk.RAISED)\n",
    "clear_button.pack(pady=20)\n",
    "\n",
    "# Run the Tkinter event loop\n",
    "root.mainloop()"
   ]
  }
 ],
 "metadata": {
  "kernelspec": {
   "display_name": "Python 3",
   "language": "python",
   "name": "python3"
  },
  "language_info": {
   "codemirror_mode": {
    "name": "ipython",
    "version": 3
   },
   "file_extension": ".py",
   "mimetype": "text/x-python",
   "name": "python",
   "nbconvert_exporter": "python",
   "pygments_lexer": "ipython3",
   "version": "3.12.3"
  }
 },
 "nbformat": 4,
 "nbformat_minor": 2
}
